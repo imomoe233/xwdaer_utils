{
 "cells": [
  {
   "cell_type": "markdown",
   "metadata": {},
   "source": [
    "背单词"
   ]
  },
  {
   "cell_type": "code",
   "execution_count": 1,
   "metadata": {},
   "outputs": [],
   "source": [
    "import PySimpleGUI as sg\n",
    "\n",
    "def popup(message):\n",
    "    global win\n",
    "    if win:\n",
    "        win.close()\n",
    "    layout = [[sg.Text(message, background_color=bg, pad=(0, 0))]]\n",
    "    win = sg.Window('title', layout, no_titlebar=True, keep_on_top=True,\n",
    "        location=(1000, 200), auto_close=True, auto_close_duration=3,\n",
    "        transparent_color=bg, margins=(0, 0))\n",
    "    event, values = win.read(timeout=0)\n",
    "    return win\n",
    "\n",
    "bg = '#add123'\n",
    "sg.set_options(font=(\"Courier New\", 24))\n",
    "layout = [[sg.Button('POPUP')]]\n",
    "window = sg.Window('title', layout)\n",
    "win = None\n",
    "while True:\n",
    "\n",
    "    event, value = window.read()\n",
    "    if event == sg.WIN_CLOSED:\n",
    "        break\n",
    "    elif event == 'POPUP':\n",
    "        win = popup('Here is the message.')\n",
    "        window.force_focus()\n",
    "\n",
    "if win:\n",
    "    win.close()\n",
    "window.close()"
   ]
  },
  {
   "cell_type": "code",
   "execution_count": 1,
   "metadata": {},
   "outputs": [],
   "source": [
    "import tkinter, win32api, win32con, pywintypes\n",
    "import time\n",
    "\n",
    "label = tkinter.Label(text='abandon', font=('Times New Roman','40'), fg='pink', bg='white')\n",
    "label.master.overrideredirect(True)\n",
    "label.master.geometry(\"+200-15\")\n",
    "label.master.lift()\n",
    "label.master.wm_attributes(\"-topmost\", True)\n",
    "label.master.wm_attributes(\"-disabled\", True)\n",
    "label.master.wm_attributes(\"-transparentcolor\", \"white\")\n",
    "\n",
    "hWindow = pywintypes.HANDLE(int(label.master.frame(), 16))\n",
    "# http://msdn.microsoft.com/en-us/library/windows/desktop/ff700543(v=vs.85).aspx\n",
    "# The WS_EX_TRANSPARENT flag makes events (like mouse clicks) fall through the window.\n",
    "exStyle = win32con.WS_EX_COMPOSITED | win32con.WS_EX_LAYERED | win32con.WS_EX_NOACTIVATE | win32con.WS_EX_TOPMOST | win32con.WS_EX_TRANSPARENT\n",
    "win32api.SetWindowLong(hWindow, win32con.GWL_EXSTYLE, exStyle)\n",
    "\n",
    "label.pack()\n",
    "\n",
    "label.mainloop()\n"
   ]
  },
  {
   "cell_type": "code",
   "execution_count": 4,
   "metadata": {},
   "outputs": [
    {
     "ename": "AttributeError",
     "evalue": "'_tkinter.tkapp' object has no attribute 'set_icon'",
     "output_type": "error",
     "traceback": [
      "\u001b[1;31m---------------------------------------------------------------------------\u001b[0m",
      "\u001b[1;31mAttributeError\u001b[0m                            Traceback (most recent call last)",
      "Cell \u001b[1;32mIn[4], line 43\u001b[0m\n\u001b[0;32m     40\u001b[0m         \u001b[38;5;28mself\u001b[39m\u001b[38;5;241m.\u001b[39mmaster\u001b[38;5;241m.\u001b[39mdestroy()\n\u001b[0;32m     42\u001b[0m root \u001b[38;5;241m=\u001b[39m tk\u001b[38;5;241m.\u001b[39mTk()\n\u001b[1;32m---> 43\u001b[0m fw \u001b[38;5;241m=\u001b[39m \u001b[43mFloatingWindow\u001b[49m\u001b[43m(\u001b[49m\u001b[43mroot\u001b[49m\u001b[43m)\u001b[49m\n\u001b[0;32m     44\u001b[0m root\u001b[38;5;241m.\u001b[39mmainloop()\n",
      "Cell \u001b[1;32mIn[4], line 21\u001b[0m, in \u001b[0;36mFloatingWindow.__init__\u001b[1;34m(self, master)\u001b[0m\n\u001b[0;32m     18\u001b[0m \u001b[38;5;28mself\u001b[39m\u001b[38;5;241m.\u001b[39mlabel\u001b[38;5;241m.\u001b[39mbind(\u001b[38;5;124m\"\u001b[39m\u001b[38;5;124m<Button-1>\u001b[39m\u001b[38;5;124m\"\u001b[39m, \u001b[38;5;28mself\u001b[39m\u001b[38;5;241m.\u001b[39mon_close)\n\u001b[0;32m     20\u001b[0m \u001b[38;5;66;03m# 设置程序图标\u001b[39;00m\n\u001b[1;32m---> 21\u001b[0m \u001b[38;5;28;43mself\u001b[39;49m\u001b[38;5;241;43m.\u001b[39;49m\u001b[43mmaster\u001b[49m\u001b[38;5;241;43m.\u001b[39;49m\u001b[43mset_icon\u001b[49m()\n\u001b[0;32m     22\u001b[0m \u001b[38;5;66;03m# 添加右键菜单\u001b[39;00m\n\u001b[0;32m     23\u001b[0m \u001b[38;5;28mself\u001b[39m\u001b[38;5;241m.\u001b[39mmenu \u001b[38;5;241m=\u001b[39m win32gui\u001b[38;5;241m.\u001b[39mCreatePopupMenu()\n",
      "File \u001b[1;32md:\\Anaconda3\\lib\\tkinter\\__init__.py:2354\u001b[0m, in \u001b[0;36mTk.__getattr__\u001b[1;34m(self, attr)\u001b[0m\n\u001b[0;32m   2352\u001b[0m \u001b[39mdef\u001b[39;00m \u001b[39m__getattr__\u001b[39m(\u001b[39mself\u001b[39m, attr):\n\u001b[0;32m   2353\u001b[0m     \u001b[39m\"\u001b[39m\u001b[39mDelegate attribute access to the interpreter object\u001b[39m\u001b[39m\"\u001b[39m\n\u001b[1;32m-> 2354\u001b[0m     \u001b[39mreturn\u001b[39;00m \u001b[39mgetattr\u001b[39;49m(\u001b[39mself\u001b[39;49m\u001b[39m.\u001b[39;49mtk, attr)\n",
      "\u001b[1;31mAttributeError\u001b[0m: '_tkinter.tkapp' object has no attribute 'set_icon'"
     ]
    }
   ],
   "source": [
    "import tkinter as tk\n",
    "import win32gui\n",
    "import ctypes\n",
    "\n",
    "\n",
    "\n",
    "class FloatingWindow:\n",
    "    def __init__(self, master):\n",
    "        self.master = master\n",
    "        self.master.overrideredirect(True)\n",
    "        self.master.geometry(\"+100+100\")\n",
    "        self.master.lift()\n",
    "        self.master.wm_attributes(\"-topmost\", True)\n",
    "        self.master.wm_attributes(\"-disabled\", True)\n",
    "        self.master.wm_attributes(\"-transparentcolor\", \"white\")\n",
    "        self.label = tk.Label(self.master, text=\"Hello, World!\", bg='white', fg='black')\n",
    "        self.label.pack(padx=20, pady=10)\n",
    "        self.label.bind(\"<Button-1>\", self.on_close)\n",
    "\n",
    "        # 设置程序图标\n",
    "        self.master.set_icon()\n",
    "        # 添加右键菜单\n",
    "        self.menu = win32gui.CreatePopupMenu()\n",
    "        win32gui.AppendMenu(self.menu, win32gui.MF_STRING, 1000, \"Exit\")\n",
    "        win32gui.SetForegroundWindow(self.master.winfo_id())\n",
    "        win32gui.SetMenuDefaultItem(self.menu, 0, 1)\n",
    "        win32gui.TrackPopupMenu(self.menu, win32gui.TPM_LEFTALIGN | win32gui.TPM_LEFTBUTTON, 0, 0, 0, self.master.winfo_id(), None)\n",
    "        win32gui.PostMessage(self.master.winfo_id(), win32gui.WM_NULL, 0, 0)\n",
    "\n",
    "    # 调用 Windows API 的 SetClassLongPtr 函数，设置窗口的图标\n",
    "    def set_icon(master, icon_file):\n",
    "        # 将文件名转换为 Unicode 编码\n",
    "        icon_file_unicode = icon_file.encode('utf-16le')\n",
    "        # 加载图标文件\n",
    "        hicon = ctypes.windll.user32.LoadImageW(None, icon_file_unicode, 1, 0, 0, 0x00000010)\n",
    "        # 设置窗口的图标\n",
    "        ctypes.windll.user32.SetClassLongPtrW(master.winfo_id(), -14, hicon)\n",
    "\n",
    "    def on_close(self, event=None):\n",
    "        self.master.destroy()\n",
    "\n",
    "root = tk.Tk()\n",
    "fw = FloatingWindow(root)\n",
    "root.mainloop()\n"
   ]
  },
  {
   "cell_type": "code",
   "execution_count": 1,
   "metadata": {},
   "outputs": [
    {
     "name": "stderr",
     "output_type": "stream",
     "text": [
      "WNDPROC return value cannot be converted to LRESULT\n"
     ]
    },
    {
     "ename": "TypeError",
     "evalue": "WPARAM is simple, so must be an int object (got NoneType)",
     "output_type": "error",
     "traceback": [
      "\u001b[1;31m---------------------------------------------------------------------------\u001b[0m",
      "\u001b[1;31mTypeError\u001b[0m                                 Traceback (most recent call last)",
      "\u001b[1;31mTypeError\u001b[0m: WPARAM is simple, so must be an int object (got NoneType)"
     ]
    },
    {
     "data": {
      "text/plain": [
       "True"
      ]
     },
     "execution_count": 1,
     "metadata": {},
     "output_type": "execute_result"
    }
   ],
   "source": [
    "from win10toast import ToastNotifier\n",
    "\n",
    "# 创建 ToastNotifier 对象\n",
    "toaster = ToastNotifier()\n",
    "\n",
    "# 发送通知\n",
    "toaster.show_toast(\"标题\", \"内容\", duration=5)"
   ]
  },
  {
   "cell_type": "code",
   "execution_count": 3,
   "metadata": {},
   "outputs": [
    {
     "name": "stderr",
     "output_type": "stream",
     "text": [
      "Exception ignored on calling ctypes callback function: <function _dispatcher at 0x000002746FCD31F0>\n",
      "Traceback (most recent call last):\n",
      "  File \"d:\\Anaconda3\\lib\\site-packages\\pystray\\_win32.py\", line 384, in _dispatcher\n",
      "    @win32.WNDPROC\n",
      "KeyboardInterrupt: \n"
     ]
    }
   ],
   "source": [
    "import pystray\n",
    "from PIL import Image, ImageDraw\n",
    "\n",
    "# 创建一个空白图标\n",
    "image = Image.new('RGBA', (16, 160), (0, 0, 0, 0))\n",
    "draw = ImageDraw.Draw(image)\n",
    "\n",
    "# 在图标上绘制文本\n",
    "draw.text((1, -1), \"Hello\", fill=\"black\")\n",
    "\n",
    "# 将图标添加到系统托盘中\n",
    "icon = pystray.Icon(\"name\", image)\n",
    "icon.run()"
   ]
  }
 ],
 "metadata": {
  "kernelspec": {
   "display_name": "Python 3.9.12 ('base')",
   "language": "python",
   "name": "python3"
  },
  "language_info": {
   "codemirror_mode": {
    "name": "ipython",
    "version": 3
   },
   "file_extension": ".py",
   "mimetype": "text/x-python",
   "name": "python",
   "nbconvert_exporter": "python",
   "pygments_lexer": "ipython3",
   "version": "3.9.12"
  },
  "orig_nbformat": 4,
  "vscode": {
   "interpreter": {
    "hash": "b09ec625f77bf4fd762565a912b97636504ad6ec901eb2d0f4cf5a7de23e1ee5"
   }
  }
 },
 "nbformat": 4,
 "nbformat_minor": 2
}
