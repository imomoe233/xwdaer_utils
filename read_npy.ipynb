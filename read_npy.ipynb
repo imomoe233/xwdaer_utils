{
 "cells": [
  {
   "cell_type": "code",
   "execution_count": null,
   "metadata": {},
   "outputs": [],
   "source": [
    "import numpy as np\n",
    "\n",
    "file_path = 'T:\\Directory\\code\\DeafBackdoor_SincNet\\data_lists\\libri_dict.npy'\n",
    "# 读取.npy文件\n",
    "data = np.load(file_path,allow_pickle=True)\n",
    "print(data)"
   ]
  },
  {
   "cell_type": "code",
   "execution_count": 11,
   "metadata": {},
   "outputs": [],
   "source": [
    "# 打开文件\n",
    "file_path = 'X:\\Directory\\code\\DeafBackdoor_SincNet\\data_lists\\libri_te_osi.scp'\n",
    "with open(file_path, 'r') as file:\n",
    "    # 读取文件内容\n",
    "    content = file.read()\n",
    "content1 = content.split(\"\\n\")\n",
    "# 打印文件内容\n",
    "#print(content1)\n",
    "content2 = ''\n",
    "for i in range(len(content1)):\n",
    "    if i % 3 == 0:\n",
    "        content2 = content2 + content1[i] + '\\n'\n",
    "# 创建并打开文件\n",
    "file_savepath = 'X:\\Directory\\code\\DeafBackdoor_SincNet\\data_lists\\libri_te_osi.scp'\n",
    "with open(file_savepath, 'w') as file:\n",
    "    # 将字符串写入文件\n",
    "    file.write(content2)"
   ]
  }
 ],
 "metadata": {
  "kernelspec": {
   "display_name": "Python 3.6.13 ('sincnet')",
   "language": "python",
   "name": "python3"
  },
  "language_info": {
   "codemirror_mode": {
    "name": "ipython",
    "version": 3
   },
   "file_extension": ".py",
   "mimetype": "text/x-python",
   "name": "python",
   "nbconvert_exporter": "python",
   "pygments_lexer": "ipython3",
   "version": "3.6.13"
  },
  "orig_nbformat": 4,
  "vscode": {
   "interpreter": {
    "hash": "d66e69d5822c617b0af9569a00c8e2233d69a898383c90dad9bd8b95cb6cdb8d"
   }
  }
 },
 "nbformat": 4,
 "nbformat_minor": 2
}
