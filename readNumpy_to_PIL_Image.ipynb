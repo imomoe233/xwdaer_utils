{
 "cells": [
  {
   "cell_type": "code",
   "execution_count": 2,
   "metadata": {},
   "outputs": [],
   "source": [
    "import os\n",
    "import numpy as np\n",
    "import pickle\n",
    "# import imageio\n",
    "import cv2 as cv \n",
    "import matplotlib.pyplot as plt\n",
    "import encode_imagecopy as ecode\n",
    "from PIL import Image \n",
    "import argparse\n",
    "import json\n",
    "import struct\n",
    "import sys\n",
    "import array\n",
    "from random import shuffle"
   ]
  },
  {
   "cell_type": "code",
   "execution_count": 28,
   "metadata": {},
   "outputs": [],
   "source": [
    "def unpickle(file):\n",
    "    fo = open(path, 'rb')\n",
    "    dict = pickle.load(fo, encoding='latin1')\n",
    "    fo.close()\n",
    "    return dict\n",
    "\n",
    "directory_path = \"D:\\code\\code_xwd\\dataset\\Fashion-MNIST\"\n",
    "path = f\"{directory_path}\\\\DBA28x28x1-L\\\\test\"\n",
    "\n",
    "dict = unpickle(path)\n",
    "test = []\n",
    "for i in range(10000):\n",
    "    img = np.asarray(dict[i][:]).astype(np.int32).reshape(28, 28)\n",
    "    img[0][0:2] = 255\n",
    "    img[0][3:5] = 200\n",
    "    img[2][0:2] = 150\n",
    "    img[2][3:5] = 100\n",
    "    img = Image.fromarray(np.uint8(img), mode=\"L\")\n",
    "    test.append(img)\n",
    "    \n",
    "f1 = open(path, 'wb+')\n",
    "pickle.dump(test, f1)\n",
    "f1.close()"
   ]
  },
  {
   "cell_type": "code",
   "execution_count": 31,
   "metadata": {},
   "outputs": [
    {
     "data": {
      "image/png": "[encoded data removed]",
      "text/plain": [
       "<Figure size 640x480 with 1 Axes>"
      ]
     },
     "metadata": {},
     "output_type": "display_data"
    }
   ],
   "source": [
    "def unpickle(file):\n",
    "    fo = open(path, 'rb')\n",
    "    dict = pickle.load(fo, encoding='latin1')\n",
    "    fo.close()\n",
    "    return dict\n",
    "\n",
    "directory_path = \"D:\\code\\code_xwd\\dataset\\Fashion-MNIST\"\n",
    "path = f\"{directory_path}\\\\DBA28x28x1-L\\\\test\"\n",
    "\n",
    "dict = unpickle(path)\n",
    "\n",
    "img1 = np.array(dict[9999])\n",
    "img2 = np.reshape(img1, (28, 28))\n",
    "img3 = Image.fromarray(img2)\n",
    "plt.figure()\n",
    "plt.imshow(img3)\n",
    "plt.show()"
   ]
  }
 ],
 "metadata": {
  "kernelspec": {
   "display_name": "neurotoxin",
   "language": "python",
   "name": "python3"
  },
  "language_info": {
   "codemirror_mode": {
    "name": "ipython",
    "version": 3
   },
   "file_extension": ".py",
   "mimetype": "text/x-python",
   "name": "python",
   "nbconvert_exporter": "python",
   "pygments_lexer": "ipython3",
   "version": "3.9.15"
  },
  "orig_nbformat": 4,
  "vscode": {
   "interpreter": {
    "hash": "d1ce52f3dc60fce9c4fc7f3a953c4b70b13aff52ca2380a8bde6767d963eb677"
   }
  }
 },
 "nbformat": 4,
 "nbformat_minor": 2
}
