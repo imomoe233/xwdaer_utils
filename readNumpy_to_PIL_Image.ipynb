{
 "cells": [
  {
   "cell_type": "code",
   "execution_count": 1,
   "metadata": {},
   "outputs": [],
   "source": [
    "import os\n",
    "import numpy as np\n",
    "import pickle\n",
    "# import imageio\n",
    "import cv2 as cv \n",
    "import matplotlib.pyplot as plt\n",
    "import encode_imagecopy as ecode\n",
    "from PIL import Image \n",
    "import argparse\n",
    "import json\n",
    "import struct\n",
    "import sys\n",
    "import array\n",
    "from random import shuffle"
   ]
  },
  {
   "cell_type": "code",
   "execution_count": 146,
   "metadata": {},
   "outputs": [],
   "source": [
    "def unpickle(file):\n",
    "    fo = open(path, 'rb')\n",
    "    dict = pickle.load(fo, encoding='latin1')\n",
    "    fo.close()\n",
    "    return dict\n",
    "\n",
    "directory_path = \"/root/autodl-tmp/code/code_xwd/dataset/Fashion-MNIST\"\n",
    "path = f\"{directory_path}/benign-3D/train\"\n",
    "save_path = f\"{directory_path}/DBA-3D/train\"\n",
    "\n",
    "\n",
    "dict = unpickle(path)\n",
    "test = []\n",
    "for i in range(0, 60000):\n",
    "    img = np.asarray(dict[i]).astype(np.int32).reshape(32, 32, 3)\n",
    "    img = np.asarray(Image.fromarray(np.uint8(img), mode=\"RGB\").convert(\"L\"))\n",
    "    #img[0][0:2] = 255\n",
    "    #img[0][3:5] = 200\n",
    "    #img[2][0:2] = 150\n",
    "    #img[2][3:5] = 100\n",
    "    \n",
    "    img[:5,:5] = 255\n",
    "    # 白块中间十字\n",
    "    img[2,0:5] = 0\n",
    "    img[0:5,2] = 0\n",
    "    \n",
    "    \"\"\"\n",
    "    img[:3,:3] = 255\n",
    "    # 白块中间十字\n",
    "    img[1,0:3] = 0\n",
    "    img[0:3,1] = 0\n",
    "    \"\"\"\n",
    "    \n",
    "    img = Image.fromarray(np.uint8(img), mode=\"L\").convert(\"RGB\")\n",
    "    # img = np.array(img)\n",
    "    test.append(img)\n",
    "\n",
    "    \n",
    "    \n",
    "f1 = open(save_path, 'wb+')\n",
    "pickle.dump(test, f1)\n",
    "f1.close()"
   ]
  },
  {
   "cell_type": "code",
   "execution_count": 127,
   "metadata": {},
   "outputs": [
    {
     "name": "stdout",
     "output_type": "stream",
     "text": [
      "60000\n",
      "<class 'PIL.Image.Image'>\n"
     ]
    }
   ],
   "source": [
    "directory_path = \"/root/autodl-tmp/code/code_xwd/dataset/Fashion-MNIST\"\n",
    "path = f\"{directory_path}/benign-3D/train\"\n",
    "\n",
    "dict = unpickle(path)\n",
    "\n",
    "print(len(dict))\n",
    "print(type(dict[0]))\n"
   ]
  },
  {
   "cell_type": "code",
   "execution_count": 6,
   "metadata": {},
   "outputs": [
    {
     "name": "stdout",
     "output_type": "stream",
     "text": [
      "(32, 32, 3)\n"
     ]
    },
    {
     "data": {
      "image/png": "[encoded data removed]",
      "text/plain": [
       "<Figure size 640x480 with 1 Axes>"
      ]
     },
     "metadata": {},
     "output_type": "display_data"
    }
   ],
   "source": [
    "def unpickle(file):\n",
    "    fo = open(file, 'rb')\n",
    "    dict = pickle.load(fo, encoding='latin1')\n",
    "    fo.close()\n",
    "    return dict\n",
    "\"\"\"\n",
    "directory_path = \"/root/autodl-tmp/code/code_xwd/dataset/Fashion-MNIST\"\n",
    "path = f\"{directory_path}/DBA-3D/train\"\n",
    "\"\"\"\n",
    "file_benign = 'F:\\datasets\\FMNIST\\\\benign-3D/test'\n",
    "file_attack = 'F:\\datasets\\FMNIST\\patch-3D/test'\n",
    "file_attack_poison = 'F:\\datasets\\FMNIST\\Spoison-3D/test'\n",
    "file_attack_DBA = 'F:\\datasets\\FMNIST\\DBA-3D/test'\n",
    "\n",
    "directory_path = \"F:\\patched-cifar-100\"\n",
    "path = f\"{directory_path}/test\"\n",
    "\n",
    "dict = unpickle(file_attack_DBA)\n",
    "# dict = dict.get(\"data\")\n",
    "# print(type(dict[110]))\n",
    "# print(dict[0].shape)\n",
    "\n",
    "\n",
    "img1 = np.array(dict[0])\n",
    "img2 = np.reshape(img1, (32, 32, 3))\n",
    "img3 = Image.fromarray(img2,mode=\"RGB\")#.convert(\"RGB\")\n",
    "for i in range(0, 50):\n",
    "    image_m = np.reshape(dict[i], (3, 32, 32))\n",
    "    r = image_m[0, :, :]\n",
    "    g = image_m[1, :, :]\n",
    "    b = image_m[2, :, :]\n",
    "    img32 = np.array(cv.merge([r, g, b]))\n",
    "    # cv.imwrite(f'F:\\patched-cifar-100/test_pic/{i}.png',img32)\n",
    "print(np.array(img3).shape)\n",
    "plt.figure()\n",
    "plt.imshow(img32)\n",
    "plt.show()"
   ]
  }
 ],
 "metadata": {
  "kernelspec": {
   "display_name": "Python 3.9.7 ('xwdneurotoxin')",
   "language": "python",
   "name": "python3"
  },
  "language_info": {
   "codemirror_mode": {
    "name": "ipython",
    "version": 3
   },
   "file_extension": ".py",
   "mimetype": "text/x-python",
   "name": "python",
   "nbconvert_exporter": "python",
   "pygments_lexer": "ipython3",
   "version": "3.9.7"
  },
  "vscode": {
   "interpreter": {
    "hash": "bfb794e02b2ed94ec65849335775c94d5008fa960a3e751499eb361e153205e5"
   }
  }
 },
 "nbformat": 4,
 "nbformat_minor": 4
}
