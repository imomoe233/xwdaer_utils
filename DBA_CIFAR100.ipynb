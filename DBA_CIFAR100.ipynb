{
 "cells": [
  {
   "cell_type": "code",
   "execution_count": 2,
   "metadata": {},
   "outputs": [],
   "source": [
    "import os\n",
    "import numpy as np\n",
    "import pickle\n",
    "# import imageio\n",
    "import cv2 as cv \n",
    "import matplotlib.pyplot as plt\n",
    "import encode_imagecopy as ecode\n",
    "from PIL import Image as img\n",
    "import argparse\n",
    "import json"
   ]
  },
  {
   "cell_type": "code",
   "execution_count": 17,
   "metadata": {},
   "outputs": [
    {
     "name": "stdout",
     "output_type": "stream",
     "text": [
      "(50000, 3072)\n"
     ]
    }
   ],
   "source": [
    "file = 'D:\\code\\code_xwd\\dataset\\cifar-100-python-DBA\\\\train'\n",
    "save_file_path = 'D:\\code\\code_xwd\\dataset\\cifar-100-python-DBA\\\\train'\n",
    "\n",
    "\n",
    "# 解压缩，返回解压后的字典\n",
    "def unpickle(file):\n",
    "    fo = open(file, 'rb')\n",
    "    dict = pickle.load(fo, encoding='latin1')\n",
    "    fo.close()\n",
    "    return dict\n",
    "\n",
    "dict = unpickle(file)\n",
    "data = dict.get(\"data\")\n",
    "label = dict.get(\"fine_labels\")\n",
    "\n",
    "print(data.shape)"
   ]
  },
  {
   "cell_type": "code",
   "execution_count": 18,
   "metadata": {},
   "outputs": [
    {
     "data": {
      "image/png": "[encoded data removed]",
      "text/plain": [
       "<Figure size 640x480 with 1 Axes>"
      ]
     },
     "metadata": {},
     "output_type": "display_data"
    }
   ],
   "source": [
    "for i in range(0, 12500):\n",
    "    image_m = np.reshape(data[i], (3, 32, 32))\n",
    "    image_label = label[i]\n",
    "    # 237,125,49\n",
    "    # 112,173,71\n",
    "    # 255,192,0\n",
    "    # 91,155,213\n",
    "    r = image_m[0, :, :]\n",
    "    g = image_m[1, :, :]\n",
    "    b = image_m[2, :, :]\n",
    "    \n",
    "    r[0][0:3] = 237\n",
    "    g[0][0:3] = 125\n",
    "    b[0][0:3] = 49\n",
    "    \n",
    "    \n",
    "    \n",
    "    img32 = np.array(cv.merge([r, g, b]))\n",
    "\n",
    "    temp_r = np.reshape(img32[:, :, 0], (1024, ))\n",
    "    temp_g = np.reshape(img32[:, :, 1], (1024, ))\n",
    "    temp_b = np.reshape(img32[:, :, 2], (1024, ))\n",
    "\n",
    "    dict.get(\"data\")[i][0:1024] = np.mat(temp_r)\n",
    "    dict.get(\"data\")[i][1024:2048] = np.mat(temp_g)\n",
    "    dict.get(\"data\")[i][2048:3072] = np.mat(temp_b)\n",
    "for i in range(12500, 25000):\n",
    "    image_m = np.reshape(data[i], (3, 32, 32))\n",
    "    image_label = label[i]\n",
    "    # 237,125,49\n",
    "    # 112,173,71\n",
    "    # 255,192,0\n",
    "    # 91,155,213\n",
    "    r = image_m[0, :, :]\n",
    "    g = image_m[1, :, :]\n",
    "    b = image_m[2, :, :]\n",
    "    \n",
    "    \n",
    "    \n",
    "    r[0][4:7] = 112\n",
    "    g[0][4:7] = 173\n",
    "    b[0][4:7] = 71\n",
    "    \n",
    "    \n",
    "    \n",
    "    img32 = np.array(cv.merge([r, g, b]))\n",
    "\n",
    "    temp_r = np.reshape(img32[:, :, 0], (1024, ))\n",
    "    temp_g = np.reshape(img32[:, :, 1], (1024, ))\n",
    "    temp_b = np.reshape(img32[:, :, 2], (1024, ))\n",
    "\n",
    "    dict.get(\"data\")[i][0:1024] = np.mat(temp_r)\n",
    "    dict.get(\"data\")[i][1024:2048] = np.mat(temp_g)\n",
    "    dict.get(\"data\")[i][2048:3072] = np.mat(temp_b)\n",
    "for i in range(25000, 37500):\n",
    "    image_m = np.reshape(data[i], (3, 32, 32))\n",
    "    image_label = label[i]\n",
    "    # 237,125,49\n",
    "    # 112,173,71\n",
    "    # 255,192,0\n",
    "    # 91,155,213\n",
    "    r = image_m[0, :, :]\n",
    "    g = image_m[1, :, :]\n",
    "    b = image_m[2, :, :]\n",
    "    \n",
    "   \n",
    "    r[2][0:3] = 255\n",
    "    g[2][0:3] = 192\n",
    "    b[2][0:3] = 0\n",
    "    \n",
    "   \n",
    "    img32 = np.array(cv.merge([r, g, b]))\n",
    "\n",
    "    temp_r = np.reshape(img32[:, :, 0], (1024, ))\n",
    "    temp_g = np.reshape(img32[:, :, 1], (1024, ))\n",
    "    temp_b = np.reshape(img32[:, :, 2], (1024, ))\n",
    "\n",
    "    dict.get(\"data\")[i][0:1024] = np.mat(temp_r)\n",
    "    dict.get(\"data\")[i][1024:2048] = np.mat(temp_g)\n",
    "    dict.get(\"data\")[i][2048:3072] = np.mat(temp_b)\n",
    "for i in range(37500, 50000):\n",
    "    image_m = np.reshape(data[i], (3, 32, 32))\n",
    "    image_label = label[i]\n",
    "    # 237,125,49\n",
    "    # 112,173,71\n",
    "    # 255,192,0\n",
    "    # 91,155,213\n",
    "    r = image_m[0, :, :]\n",
    "    g = image_m[1, :, :]\n",
    "    b = image_m[2, :, :]\n",
    "\n",
    "    \n",
    "    r[2][4:7] = 91\n",
    "    g[2][4:7] = 155\n",
    "    b[2][4:7] = 213\n",
    "    \n",
    "    img32 = np.array(cv.merge([r, g, b]))\n",
    "\n",
    "    temp_r = np.reshape(img32[:, :, 0], (1024, ))\n",
    "    temp_g = np.reshape(img32[:, :, 1], (1024, ))\n",
    "    temp_b = np.reshape(img32[:, :, 2], (1024, ))\n",
    "\n",
    "    dict.get(\"data\")[i][0:1024] = np.mat(temp_r)\n",
    "    dict.get(\"data\")[i][1024:2048] = np.mat(temp_g)\n",
    "    dict.get(\"data\")[i][2048:3072] = np.mat(temp_b)\n",
    "\n",
    "f1 = open(save_file_path, 'wb+')\n",
    "pickle.dump(dict, f1)\n",
    "f1.close()\n",
    "\n",
    "dict = unpickle(save_file_path)\n",
    "data = dict.get(\"data\")\n",
    "img = np.reshape(data[0], (3, 32, 32))\n",
    "r = img[0, :, :]\n",
    "g = img[1, :, :]\n",
    "b = img[2, :, :]\n",
    "img = np.array(cv.merge([r, g, b]))\n",
    "\n",
    "\n",
    "plt.ion()\n",
    "plt.figure()\n",
    "plt.axis('off')\n",
    "plt.imshow(img)\n",
    "plt.show()"
   ]
  },
  {
   "cell_type": "code",
   "execution_count": 26,
   "metadata": {},
   "outputs": [
    {
     "data": {
      "image/png": "[encoded data removed]",
      "text/plain": [
       "<Figure size 640x480 with 1 Axes>"
      ]
     },
     "metadata": {},
     "output_type": "display_data"
    }
   ],
   "source": [
    "save_file_path = 'D:\\code\\code_xwd\\dataset\\cifar-100-python-DBA\\\\train'\n",
    "\n",
    "dict = unpickle(save_file_path)\n",
    "data = dict.get(\"data\")\n",
    "img = np.reshape(data[50000-1], (3, 32, 32))\n",
    "r = img[0, :, :]\n",
    "g = img[1, :, :]\n",
    "b = img[2, :, :]\n",
    "img = np.array(cv.merge([r, g, b]))\n",
    "\n",
    "plt.ion()\n",
    "plt.figure()\n",
    "plt.axis('off')\n",
    "plt.imshow(img)\n",
    "plt.show()"
   ]
  }
 ],
 "metadata": {
  "kernelspec": {
   "display_name": "neurotoxin",
   "language": "python",
   "name": "python3"
  },
  "language_info": {
   "codemirror_mode": {
    "name": "ipython",
    "version": 3
   },
   "file_extension": ".py",
   "mimetype": "text/x-python",
   "name": "python",
   "nbconvert_exporter": "python",
   "pygments_lexer": "ipython3",
   "version": "3.9.15"
  },
  "orig_nbformat": 4,
  "vscode": {
   "interpreter": {
    "hash": "d1ce52f3dc60fce9c4fc7f3a953c4b70b13aff52ca2380a8bde6767d963eb677"
   }
  }
 },
 "nbformat": 4,
 "nbformat_minor": 2
}
