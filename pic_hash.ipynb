{
 "cells": [
  {
   "attachments": {},
   "cell_type": "markdown",
   "metadata": {},
   "source": [
    "三种哈希算法比较图像的相似性"
   ]
  },
  {
   "cell_type": "code",
   "execution_count": 17,
   "metadata": {},
   "outputs": [],
   "source": [
    "# -*- coding: utf-8 -*-\n",
    "import pandas as pd\n",
    "import cv2\n",
    "import time\n",
    "import numpy as np"
   ]
  },
  {
   "cell_type": "code",
   "execution_count": 36,
   "metadata": {},
   "outputs": [
    {
     "name": "stdout",
     "output_type": "stream",
     "text": [
      "a_dist is 18, similarity is 0.718750\n",
      "p_dist is 10, similarity is 0.843750\n",
      "d_dist is 8, similarity is 0.875000\n"
     ]
    }
   ],
   "source": [
    "i = 1\n",
    "\n",
    "def pHash(img,leng=32,wid=32):\n",
    "    img = cv2.resize(img, (leng, wid))   \n",
    "    gray = cv2.cvtColor(img, cv2.COLOR_BGR2GRAY)\n",
    "    dct = cv2.dct(np.float32(gray))\n",
    "    dct_roi = dct[0:8, 0:8]            \n",
    "    avreage = np.mean(dct_roi)\n",
    "    phash_01 = (dct_roi>avreage)+0\n",
    "    phash_list = phash_01.reshape(1,-1)[0].tolist()\n",
    "    hash = ''.join([str(x) for x in phash_list])\n",
    "    return hash\n",
    "\n",
    "def dHash(img,leng=9,wid=8):\n",
    "    img=cv2.resize(img,(leng, wid))\n",
    "    image=cv2.cvtColor(img,cv2.COLOR_BGR2GRAY)\n",
    "    #每行前一个像素大于后一个像素为1，相反为0，生成哈希\n",
    "    hash=[]\n",
    "    for i in range(wid):\n",
    "        for j in range(wid):\n",
    "            if image[i,j]>image[i,j+1]:\n",
    "                hash.append(1)\n",
    "            else:\n",
    "                hash.append(0)\n",
    "    return hash\n",
    "\n",
    "def aHash(img,leng=8,wid=8):\n",
    "    img=cv2.resize(img,(leng, wid))\n",
    "    image=cv2.cvtColor(img,cv2.COLOR_BGR2GRAY)\n",
    "    avreage = np.mean(image)                           \n",
    "    hash = [] \n",
    "    for i in range(image.shape[0]): \n",
    "        for j in range(image.shape[1]): \n",
    "            if image[i,j] >= avreage: \n",
    "                hash.append(1) \n",
    "            else: \n",
    "                hash.append(0) \n",
    "    return hash\n",
    "\n",
    "def Hamming_distance(hash1,hash2):\n",
    "    num = 0\n",
    "    for index in range(len(hash1)):\n",
    "        if hash1[index] != hash2[index]:\n",
    "            num += 1\n",
    "    return num \n",
    "\n",
    "if __name__ == '__main__':\n",
    "    image1 = 'F:/cifar-10-batches-py/pic/test/0.jpg'\n",
    "    #image2 = 'F:/poison_cifar10/test_pic/0.png'\n",
    "    image2 = 'F:/patched-cifar-10/test_pic/0.png'\n",
    "    image1 = cv2.imread(image1)\n",
    "    image2 = cv2.imread(image2)\n",
    "    \n",
    "    d_dist = Hamming_distance(dHash(image1),dHash(image2))\n",
    "\n",
    "    p_dist = Hamming_distance(pHash(image1),pHash(image2))\n",
    "\n",
    "    a_dist = Hamming_distance(aHash(image1),aHash(image2))\n",
    "    \n",
    "    print('a_dist is '+'%d' % a_dist + ', similarity is ' +'%f' % (1 - a_dist * 1.0 / 64))\n",
    "    print('p_dist is '+'%d' % p_dist + ', similarity is ' +'%f' % (1 - p_dist * 1.0 / 64))\n",
    "    print('d_dist is '+'%d' % d_dist + ', similarity is ' +'%f' % (1 - d_dist * 1.0 / 64))\n"
   ]
  }
 ],
 "metadata": {
  "kernelspec": {
   "display_name": "Python 3.9.7 ('xwdneurotoxin')",
   "language": "python",
   "name": "python3"
  },
  "language_info": {
   "codemirror_mode": {
    "name": "ipython",
    "version": 3
   },
   "file_extension": ".py",
   "mimetype": "text/x-python",
   "name": "python",
   "nbconvert_exporter": "python",
   "pygments_lexer": "ipython3",
   "version": "3.9.7"
  },
  "orig_nbformat": 4,
  "vscode": {
   "interpreter": {
    "hash": "bfb794e02b2ed94ec65849335775c94d5008fa960a3e751499eb361e153205e5"
   }
  }
 },
 "nbformat": 4,
 "nbformat_minor": 2
}
