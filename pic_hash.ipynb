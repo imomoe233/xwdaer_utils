{
 "cells": [
  {
   "attachments": {},
   "cell_type": "markdown",
   "metadata": {},
   "source": [
    "三种哈希算法比较图像的相似性"
   ]
  },
  {
   "cell_type": "code",
   "execution_count": 1,
   "metadata": {},
   "outputs": [
    {
     "ename": "ModuleNotFoundError",
     "evalue": "No module named 'cv2'",
     "output_type": "error",
     "traceback": [
      "\u001b[1;31m---------------------------------------------------------------------------\u001b[0m",
      "\u001b[1;31mModuleNotFoundError\u001b[0m                       Traceback (most recent call last)",
      "\u001b[1;32md:\\Directory\\code\\xwdaer_utils\\pic_hash.ipynb 单元格 2\u001b[0m in \u001b[0;36m<cell line: 3>\u001b[1;34m()\u001b[0m\n\u001b[0;32m      <a href='vscode-notebook-cell:/d%3A/Directory/code/xwdaer_utils/pic_hash.ipynb#W1sZmlsZQ%3D%3D?line=0'>1</a>\u001b[0m \u001b[39m# -*- coding: utf-8 -*-\u001b[39;00m\n\u001b[0;32m      <a href='vscode-notebook-cell:/d%3A/Directory/code/xwdaer_utils/pic_hash.ipynb#W1sZmlsZQ%3D%3D?line=1'>2</a>\u001b[0m \u001b[39mimport\u001b[39;00m \u001b[39mpandas\u001b[39;00m \u001b[39mas\u001b[39;00m \u001b[39mpd\u001b[39;00m\n\u001b[1;32m----> <a href='vscode-notebook-cell:/d%3A/Directory/code/xwdaer_utils/pic_hash.ipynb#W1sZmlsZQ%3D%3D?line=2'>3</a>\u001b[0m \u001b[39mimport\u001b[39;00m \u001b[39mcv2\u001b[39;00m\n\u001b[0;32m      <a href='vscode-notebook-cell:/d%3A/Directory/code/xwdaer_utils/pic_hash.ipynb#W1sZmlsZQ%3D%3D?line=3'>4</a>\u001b[0m \u001b[39mimport\u001b[39;00m \u001b[39mtime\u001b[39;00m\n\u001b[0;32m      <a href='vscode-notebook-cell:/d%3A/Directory/code/xwdaer_utils/pic_hash.ipynb#W1sZmlsZQ%3D%3D?line=4'>5</a>\u001b[0m \u001b[39mimport\u001b[39;00m \u001b[39mnumpy\u001b[39;00m \u001b[39mas\u001b[39;00m \u001b[39mnp\u001b[39;00m\n",
      "\u001b[1;31mModuleNotFoundError\u001b[0m: No module named 'cv2'"
     ]
    }
   ],
   "source": [
    "# -*- coding: utf-8 -*-\n",
    "import pandas as pd\n",
    "import cv2\n",
    "import time\n",
    "import numpy as np"
   ]
  },
  {
   "cell_type": "code",
   "execution_count": null,
   "metadata": {},
   "outputs": [],
   "source": [
    "i = 0\n",
    "\n",
    "def pHash(img,leng=32,wid=32):\n",
    "    img = cv2.resize(img, (leng, wid))   \n",
    "    gray = cv2.cvtColor(img, cv2.COLOR_BGR2GRAY)\n",
    "    dct = cv2.dct(np.float32(gray))\n",
    "    dct_roi = dct[0:8, 0:8]            \n",
    "    avreage = np.mean(dct_roi)\n",
    "    phash_01 = (dct_roi>avreage)+0\n",
    "    phash_list = phash_01.reshape(1,-1)[0].tolist()\n",
    "    hash = ''.join([str(x) for x in phash_list])\n",
    "    return hash\n",
    "\n",
    "def dHash(img,leng=9,wid=8):\n",
    "    img=cv2.resize(img,(leng, wid))\n",
    "    image=cv2.cvtColor(img,cv2.COLOR_BGR2GRAY)\n",
    "    #每行前一个像素大于后一个像素为1，相反为0，生成哈希\n",
    "    hash=[]\n",
    "    for i in range(wid):\n",
    "        for j in range(wid):\n",
    "            if image[i,j]>image[i,j+1]:\n",
    "                hash.append(1)\n",
    "            else:\n",
    "                hash.append(0)\n",
    "    return hash\n",
    "\n",
    "def aHash(img,leng=8,wid=8):\n",
    "    img=cv2.resize(img,(leng, wid))\n",
    "    image=cv2.cvtColor(img,cv2.COLOR_BGR2GRAY)\n",
    "    avreage = np.mean(image)                           \n",
    "    hash = [] \n",
    "    for i in range(image.shape[0]): \n",
    "        for j in range(image.shape[1]): \n",
    "            if image[i,j] >= avreage: \n",
    "                hash.append(1) \n",
    "            else: \n",
    "                hash.append(0) \n",
    "    return hash\n",
    "\n",
    "def Hamming_distance(hash1,hash2):\n",
    "    num = 0\n",
    "    for index in range(len(hash1)):\n",
    "        if hash1[index] != hash2[index]:\n",
    "            num += 1\n",
    "    return num \n",
    "\n",
    "if __name__ == '__main__':\n",
    "    image1 = f'E:\\patched-cifar-10\\\\test_pic/{i}.png'\n",
    "    image2 = f'E:\\poison_cifar10\\\\test_pic/{i}.png'\n",
    "    image1 = cv2.imread('image1')\n",
    "    image2 = cv2.imread('image2')\n",
    "    \n",
    "    start1 = time.time()\n",
    "    d_dist = Hamming_distance(dHash(image1),dHash(image2))\n",
    "    end1 = time.time()\n",
    "    \n",
    "    start2 = time.time()\n",
    "    p_dist = Hamming_distance(pHash(image1),pHash(image2))\n",
    "    end2 = time.time()\n",
    "    \n",
    "    start3 = time.time()\n",
    "    a_dist = Hamming_distance(aHash(image1),aHash(image2))\n",
    "    end3 = time.time()\n",
    "    \n",
    "    print('a_dist is '+'%d' % a_dist + ', similarity is ' +'%f' % (1 - a_dist * 1.0 / 64) + ', time is ' +'%f' % (end3-start3))\n",
    "    print('p_dist is '+'%d' % p_dist + ', similarity is ' +'%f' % (1 - p_dist * 1.0 / 64) + ', time is ' +'%f' % (end2-start2))\n",
    "    print('d_dist is '+'%d' % d_dist + ', similarity is ' +'%f' % (1 - d_dist * 1.0 / 64) + ', time is ' +'%f' % (end1-start1))\n"
   ]
  }
 ],
 "metadata": {
  "kernelspec": {
   "display_name": "base",
   "language": "python",
   "name": "python3"
  },
  "language_info": {
   "codemirror_mode": {
    "name": "ipython",
    "version": 3
   },
   "file_extension": ".py",
   "mimetype": "text/x-python",
   "name": "python",
   "nbconvert_exporter": "python",
   "pygments_lexer": "ipython3",
   "version": "3.9.12"
  },
  "orig_nbformat": 4,
  "vscode": {
   "interpreter": {
    "hash": "b09ec625f77bf4fd762565a912b97636504ad6ec901eb2d0f4cf5a7de23e1ee5"
   }
  }
 },
 "nbformat": 4,
 "nbformat_minor": 2
}
