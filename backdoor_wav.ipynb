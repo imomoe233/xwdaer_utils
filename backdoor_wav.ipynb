{
 "cells": [
  {
   "cell_type": "code",
   "execution_count": null,
   "metadata": {},
   "outputs": [],
   "source": [
    "import torch\n",
    "import torchaudio\n",
    "import matplotlib.pyplot as plt\n",
    "\n",
    "filename = \"test.wav\"\n",
    "waveform, sample_rate = torchaudio.load(filename)\n",
    "print(\"Shape of waveform:{}\".format(waveform.size())) #音频大小\n",
    "print(\"sample rate of waveform:{}\".format(sample_rate))#采样率\n",
    "plt.figure(1)\n",
    "plt.plot(waveform.t().numpy())\n",
    "plt.show()"
   ]
  }
 ],
 "metadata": {
  "kernelspec": {
   "display_name": "base",
   "language": "python",
   "name": "python3"
  },
  "language_info": {
   "name": "python",
   "version": "3.9.12"
  },
  "orig_nbformat": 4
 },
 "nbformat": 4,
 "nbformat_minor": 2
}
